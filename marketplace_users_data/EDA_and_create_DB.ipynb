{
 "cells": [
  {
   "cell_type": "code",
   "execution_count": 25,
   "id": "b9d5a432",
   "metadata": {},
   "outputs": [],
   "source": [
    "import pandas as pd\n",
    "import numpy as np\n",
    "import psycopg2\n",
    "from psycopg2.extras import execute_values\n",
    "from dotenv import load_dotenv\n",
    "import os\n",
    "import matplotlib.pyplot as plt\n",
    "from dateutil import parser"
   ]
  },
  {
   "cell_type": "markdown",
   "id": "a4d2d4ad",
   "metadata": {},
   "source": [
    "# Разведочный анализ данных"
   ]
  },
  {
   "cell_type": "markdown",
   "id": "0efad5ca",
   "metadata": {},
   "source": [
    "Перед проведением EDA необходимо загрузить данные из excel-таблицы"
   ]
  },
  {
   "cell_type": "code",
   "execution_count": 26,
   "id": "4fac3b73",
   "metadata": {},
   "outputs": [],
   "source": [
    "# загружаем данные о пользователях\n",
    "df_users = pd.read_excel('marketplace_users_data.xlsx', sheet_name='users')\n",
    "\n",
    "# загружаем данные о покупках\n",
    "df_purchases = pd.read_excel('marketplace_users_data.xlsx', sheet_name='purchases')"
   ]
  },
  {
   "cell_type": "markdown",
   "id": "df47999b",
   "metadata": {},
   "source": [
    "## Общий обзор данных"
   ]
  },
  {
   "cell_type": "markdown",
   "id": "2289e1e5",
   "metadata": {},
   "source": [
    "__Проверяем размерность датасетов__"
   ]
  },
  {
   "cell_type": "code",
   "execution_count": 66,
   "id": "4b8bd87a",
   "metadata": {},
   "outputs": [
    {
     "name": "stdout",
     "output_type": "stream",
     "text": [
      "Количество строк и столбцов в df_users: (500, 6)\n",
      "Количество строк и столбцов в df_purchases: (3000, 5)\n"
     ]
    }
   ],
   "source": [
    "print(f'Количество строк и столбцов в df_users: {df_users.shape}')\n",
    "print(f'Количество строк и столбцов в df_purchases: {df_purchases.shape}')"
   ]
  },
  {
   "cell_type": "markdown",
   "id": "80124dc1",
   "metadata": {},
   "source": [
    "__Изучаем типы данных в каждом датасете__"
   ]
  },
  {
   "cell_type": "code",
   "execution_count": 67,
   "id": "06ac9fa6",
   "metadata": {},
   "outputs": [
    {
     "name": "stdout",
     "output_type": "stream",
     "text": [
      "Типы данных столбцов df_users: \n",
      " id              int64\n",
      "name           object\n",
      "age           float64\n",
      "city           object\n",
      "profession     object\n",
      "join_date      object\n",
      "dtype: object\n",
      "\n",
      "Типы данных столбцов df_purchases: \n",
      " id                int64\n",
      "user_id           int64\n",
      "purchase_date    object\n",
      "amount           object\n",
      "category         object\n",
      "dtype: object\n"
     ]
    }
   ],
   "source": [
    "print(f'Типы данных столбцов df_users: \\n {df_users.dtypes}')\n",
    "print(f'\\nТипы данных столбцов df_purchases: \\n {df_purchases.dtypes}')"
   ]
  },
  {
   "cell_type": "markdown",
   "id": "b378a08e",
   "metadata": {},
   "source": [
    "__Проверяем, есть ли пропущенные значения__"
   ]
  },
  {
   "cell_type": "code",
   "execution_count": 14,
   "id": "2a342192",
   "metadata": {},
   "outputs": [
    {
     "name": "stdout",
     "output_type": "stream",
     "text": [
      "Количество пропусков в столбцах df_users: \n",
      " id            0\n",
      "name          0\n",
      "age           0\n",
      "city          0\n",
      "profession    0\n",
      "join_date     0\n",
      "dtype: int64\n",
      "Количество пропусков в столбцах df_purchases: \n",
      " id                 0\n",
      "user_id            0\n",
      "purchase_date    312\n",
      "amount           162\n",
      "category         498\n",
      "dtype: int64\n"
     ]
    }
   ],
   "source": [
    "print(f'Количество пропусков в столбцах df_users: \\n {df_users.isnull().sum()}')\n",
    "print(f'Количество пропусков в столбцах df_purchases: \\n {df_purchases.isnull().sum()}')"
   ]
  },
  {
   "cell_type": "markdown",
   "id": "2908335d",
   "metadata": {},
   "source": [
    "__Проверяем, есть ли дубликаты__"
   ]
  },
  {
   "cell_type": "code",
   "execution_count": 69,
   "id": "e1e04faf",
   "metadata": {},
   "outputs": [
    {
     "name": "stdout",
     "output_type": "stream",
     "text": [
      "Количество дубликатов в df_users: 0\n",
      "Количество дубликатов в df_purchases: 0\n"
     ]
    }
   ],
   "source": [
    "print(f'Количество дубликатов в df_users: {df_users.duplicated().sum()}')\n",
    "print(f'Количество дубликатов в df_purchases: {df_purchases.duplicated().sum()}')"
   ]
  },
  {
   "cell_type": "markdown",
   "id": "50b8fba6",
   "metadata": {},
   "source": [
    "__Просмотр количеств уникальных значений__"
   ]
  },
  {
   "cell_type": "code",
   "execution_count": 70,
   "id": "1193435a",
   "metadata": {},
   "outputs": [
    {
     "name": "stdout",
     "output_type": "stream",
     "text": [
      "Количество уникальных значений в df_users: \n",
      " id            500\n",
      "name          471\n",
      "age            78\n",
      "city          490\n",
      "profession     34\n",
      "join_date     414\n",
      "dtype: int64\n",
      "Количество уникальных значений в df_purchases: \n",
      " id               3000\n",
      "user_id           500\n",
      "purchase_date    1365\n",
      "amount           2813\n",
      "category           14\n",
      "dtype: int64\n"
     ]
    }
   ],
   "source": [
    "print(f'Количество уникальных значений в df_users: \\n {df_users.nunique()}')\n",
    "print(f'Количество уникальных значений в df_purchases: \\n {df_purchases.nunique()}')"
   ]
  },
  {
   "cell_type": "markdown",
   "id": "f1e80230",
   "metadata": {},
   "source": [
    "## Анализ переменных пользователей"
   ]
  },
  {
   "cell_type": "markdown",
   "id": "e505d91a",
   "metadata": {},
   "source": [
    "### df_users"
   ]
  },
  {
   "cell_type": "markdown",
   "id": "a94cc15d",
   "metadata": {},
   "source": [
    "__Статистический обзор столбца age__"
   ]
  },
  {
   "cell_type": "code",
   "execution_count": 71,
   "id": "8c19bf4e",
   "metadata": {},
   "outputs": [
    {
     "name": "stdout",
     "output_type": "stream",
     "text": [
      "Статистический обзор:\n",
      "count    464.000000\n",
      "mean      50.415948\n",
      "std       24.344305\n",
      "min       18.000000\n",
      "25%       34.000000\n",
      "50%       48.000000\n",
      "75%       61.000000\n",
      "max      148.000000\n",
      "Name: age, dtype: float64\n",
      "\n",
      "Количество нулевых значений: 36\n"
     ]
    }
   ],
   "source": [
    "print(f\"Статистический обзор:\\n{df_users['age'].describe()}\")\n",
    "print(f\"\\nКоличество нулевых значений: {df_users['age'].isnull().sum()}\")"
   ]
  },
  {
   "cell_type": "markdown",
   "id": "c91aefc4",
   "metadata": {},
   "source": [
    "По полученным данным можно сделать вывод, что в столбце age присутствуют аномальные значения (возраст больше 100), а также имеются пропуски.     \n"
   ]
  },
  {
   "cell_type": "markdown",
   "id": "2117ee7e",
   "metadata": {},
   "source": [
    "Далее, __посмотрим на столбцы city и profession.__"
   ]
  },
  {
   "cell_type": "code",
   "execution_count": null,
   "id": "5422e6ce",
   "metadata": {},
   "outputs": [],
   "source": [
    "df_users[['city','profession']].head(10)"
   ]
  },
  {
   "cell_type": "code",
   "execution_count": null,
   "id": "1184a9b5",
   "metadata": {},
   "outputs": [],
   "source": [
    "# Просмотр уникальных значений для выявления опечаток\n",
    "unique_professions = df_users['profession'].unique()\n",
    "unique_professions"
   ]
  },
  {
   "cell_type": "markdown",
   "id": "dafbc07b",
   "metadata": {},
   "source": [
    "Видим, что в столбцах city и profession данные разнородные,есть пропуски, а также в столбце profession присутствуют опечатки в названии профессий.    \n",
    "Также в столбце name видим, что есть пропущенные значения."
   ]
  },
  {
   "cell_type": "code",
   "execution_count": null,
   "id": "44c70b43",
   "metadata": {},
   "outputs": [],
   "source": [
    "print(f\"Количество пропусков в столбце name df_users: {df_users['name'].isnull().sum()}\")"
   ]
  },
  {
   "cell_type": "markdown",
   "id": "a80b5cd1",
   "metadata": {},
   "source": [
    "__В столбце с датой регистрации__ наблюдаются разные форматы дат, а также пропущенные значения"
   ]
  },
  {
   "cell_type": "code",
   "execution_count": 155,
   "id": "d95ea032",
   "metadata": {},
   "outputs": [
    {
     "data": {
      "text/plain": [
       "0    2021-05-14 00:00:00\n",
       "1    2021-09-19 00:00:00\n",
       "2                    NaN\n",
       "3    2023-11-13 00:00:00\n",
       "4    2020-12-23 00:00:00\n",
       "5    2021-07-14 00:00:00\n",
       "6             2021/12/05\n",
       "7    2023-02-01 00:00:00\n",
       "8                    NaN\n",
       "9    2022-11-04 00:00:00\n",
       "Name: join_date, dtype: object"
      ]
     },
     "execution_count": 155,
     "metadata": {},
     "output_type": "execute_result"
    }
   ],
   "source": [
    "df_users['join_date']. head(10)"
   ]
  },
  {
   "cell_type": "markdown",
   "id": "e1d64853",
   "metadata": {},
   "source": [
    "__Обзорная визуализация для диагностики данных__"
   ]
  },
  {
   "cell_type": "markdown",
   "id": "100a4c56",
   "metadata": {},
   "source": [
    "Построение данных визуализаций помогает выявить пропуски, некорректные значения, неоднородность текста и аномалии"
   ]
  },
  {
   "cell_type": "markdown",
   "id": "55476dcd",
   "metadata": {},
   "source": [
    "__*Анализ пропусков и распределения по столбцам*__   \n",
    "\n",
    "Данный график отображает количество нулевых значений в столбцах датафрейма df_users"
   ]
  },
  {
   "cell_type": "code",
   "execution_count": null,
   "id": "c721285e",
   "metadata": {},
   "outputs": [
    {
     "data": {
      "image/png": "[encoded data removed]",
      "text/plain": [
       "<Figure size 640x480 with 1 Axes>"
      ]
     },
     "metadata": {},
     "output_type": "display_data"
    }
   ],
   "source": [
    "# Пропуски по столбцам пользователей\n",
    "df_users.isnull().sum().plot(kind='bar', color='skyblue', edgecolor='black')\n",
    "plt.ylabel('Количество пропущенных значений')\n",
    "plt.xlabel('Наименование столбцов')\n",
    "plt.title('Пропущенные значения по столбцам')\n",
    "plt.show()\n"
   ]
  },
  {
   "cell_type": "markdown",
   "id": "8cb80dd6",
   "metadata": {},
   "source": [
    "__*Гистограмма распределения возраста с аномалиями*__    \n",
    "\n",
    "Данный график показыват как часто встречаются разные возрастные группы среди пользователей"
   ]
  },
  {
   "cell_type": "code",
   "execution_count": 162,
   "id": "dbc6b36b",
   "metadata": {},
   "outputs": [
    {
     "data": {
      "image/png": "[encoded data removed]",
      "text/plain": [
       "<Figure size 640x480 with 1 Axes>"
      ]
     },
     "metadata": {},
     "output_type": "display_data"
    }
   ],
   "source": [
    "df_users['age'].hist(bins=30, color='lightgreen', edgecolor='black')\n",
    "plt.title('Распределение возраста пользователей')\n",
    "plt.xlabel('Возраст')\n",
    "plt.ylabel('Количество')\n",
    "plt.show()"
   ]
  },
  {
   "cell_type": "markdown",
   "id": "3972d9c1",
   "metadata": {},
   "source": [
    "__*Топ-10 городов и профессий*__    \n",
    "\n",
    "Построенные графики дают обзор распределения пользователей по городам и по профессиональной принадлежности, выявляя основные категории и долю пропусков или неконсистентных данных в текстовых столбцах."
   ]
  },
  {
   "cell_type": "code",
   "execution_count": null,
   "id": "fad10d94",
   "metadata": {},
   "outputs": [
    {
     "data": {
      "image/png": "[encoded data removed]",
      "text/plain": [
       "<Figure size 1500x600 with 2 Axes>"
      ]
     },
     "metadata": {},
     "output_type": "display_data"
    }
   ],
   "source": [
    "fig, axes = plt.subplots(1, 2, figsize=(15, 6))  # 1 строка, 2 столбца с общей шириной\n",
    "\n",
    "df_users['city'].str.lower().value_counts(dropna=False).head(10).plot(kind='bar', color='orange', ax=axes[0])\n",
    "axes[0].set_title('Топ-10 городов (с учетом регистра и пропусков)')\n",
    "df_users['profession'].str.lower().value_counts(dropna=False).head(10).plot(kind='bar', color='violet', ax=axes[1])\n",
    "axes[1].set_title('Топ-10 профессий (с учетом регистра и пропусков и ошибок в названиях профессий)')\n",
    "plt.tight_layout()  # для удобного размещения графиков\n",
    "plt.show()"
   ]
  },
  {
   "cell_type": "markdown",
   "id": "60309605",
   "metadata": {},
   "source": [
    "## Анализ переменных покупок"
   ]
  },
  {
   "cell_type": "markdown",
   "id": "1c6b6b79",
   "metadata": {},
   "source": [
    "### df_purchases"
   ]
  },
  {
   "cell_type": "markdown",
   "id": "cc1f01ff",
   "metadata": {},
   "source": [
    "__Анализ столбца сумма покупок (amount)__    \n",
    "\n",
    "Посмотрим, сколько пропущенных значений в столбце amount"
   ]
  },
  {
   "cell_type": "code",
   "execution_count": 187,
   "id": "8971df97",
   "metadata": {},
   "outputs": [
    {
     "name": "stdout",
     "output_type": "stream",
     "text": [
      "Количество пропущенных значений в столбце amount: 162\n"
     ]
    }
   ],
   "source": [
    "missing_count = df_purchases['amount'].isnull().sum()\n",
    "print(f\"Количество пропущенных значений в столбце amount: {missing_count}\")"
   ]
  },
  {
   "cell_type": "markdown",
   "id": "2fdc906a",
   "metadata": {},
   "source": [
    "Помимо этого видно, что данные неоднородные, просутсвуют лишние пробелы и разные разделители"
   ]
  },
  {
   "cell_type": "code",
   "execution_count": 190,
   "id": "c91788fc",
   "metadata": {},
   "outputs": [
    {
     "data": {
      "text/plain": [
       "252      190.09\n",
       "1173        NaN\n",
       "1963     93.82 \n",
       "804      161.27\n",
       "2373     432.43\n",
       "392      353.95\n",
       "1106      51.96\n",
       "2212    234,24 \n",
       "110      970.63\n",
       "2298     478.81\n",
       "Name: amount, dtype: object"
      ]
     },
     "execution_count": 190,
     "metadata": {},
     "output_type": "execute_result"
    }
   ],
   "source": [
    "df_purchases['amount'].sample(10)"
   ]
  },
  {
   "cell_type": "markdown",
   "id": "12a1ba71",
   "metadata": {},
   "source": [
    "__Анализ столбца категория товаров (category)__"
   ]
  },
  {
   "cell_type": "code",
   "execution_count": 195,
   "id": "4f686b39",
   "metadata": {},
   "outputs": [
    {
     "data": {
      "text/plain": [
       "array(['Books', nan, 'Electronics', 'Sports', 'Clothing', 'Cosmetics',\n",
       "       'Toys', 'sports', 'toys', 'cosmetics', 'Food', 'clothing',\n",
       "       'electronics', 'food', 'books'], dtype=object)"
      ]
     },
     "execution_count": 195,
     "metadata": {},
     "output_type": "execute_result"
    }
   ],
   "source": [
    "unique_category = df_purchases['category'].unique()\n",
    "unique_category"
   ]
  },
  {
   "cell_type": "markdown",
   "id": "52d9d907",
   "metadata": {},
   "source": [
    "__Анализ столбца дата покупки (purchase_date)__    \n",
    "\n",
    "В столбце с датой покупки наблюдаются разные форматы дат, а также пропущенные значения"
   ]
  },
  {
   "cell_type": "code",
   "execution_count": 198,
   "id": "1b5460b4",
   "metadata": {},
   "outputs": [
    {
     "data": {
      "text/plain": [
       "16      2023-11-16 00:00:00\n",
       "2527             03-31-2024\n",
       "2326             07-18-2025\n",
       "131     2025-03-19 00:00:00\n",
       "9       2023-12-09 00:00:00\n",
       "701     2024-03-12 00:00:00\n",
       "2166                    NaN\n",
       "2876             05/06/2025\n",
       "1116    2025-04-25 00:00:00\n",
       "613     2023-11-13 00:00:00\n",
       "Name: purchase_date, dtype: object"
      ]
     },
     "execution_count": 198,
     "metadata": {},
     "output_type": "execute_result"
    }
   ],
   "source": [
    "df_purchases['purchase_date']. sample(10)"
   ]
  },
  {
   "cell_type": "markdown",
   "id": "b74079b5",
   "metadata": {},
   "source": [
    "__Обзорная визуализация для диагностики данных__"
   ]
  },
  {
   "cell_type": "markdown",
   "id": "fc0e50ef",
   "metadata": {},
   "source": [
    "__*Анализ пропусков и распределения по столбцам*__  "
   ]
  },
  {
   "cell_type": "code",
   "execution_count": null,
   "id": "8b3f8403",
   "metadata": {},
   "outputs": [
    {
     "data": {
      "image/png": "[encoded data removed]",
      "text/plain": [
       "<Figure size 640x480 with 1 Axes>"
      ]
     },
     "metadata": {},
     "output_type": "display_data"
    }
   ],
   "source": [
    "# Пропуски по столбцам пользователей\n",
    "df_purchases.isnull().sum().plot(kind='bar', color='red', edgecolor='black')\n",
    "plt.ylabel('Количество пропущенных значений')\n",
    "plt.xlabel('Наименование столбцов')\n",
    "plt.title('Пропущенные значения по столбцам')\n",
    "plt.show()"
   ]
  },
  {
   "cell_type": "markdown",
   "id": "fb7084f0",
   "metadata": {},
   "source": [
    "__*Распределение сумм покупок*__    \n",
    "\n",
    "Перед построением гистограммы данные в стобце amount очитаются и приводятся к числу."
   ]
  },
  {
   "cell_type": "code",
   "execution_count": null,
   "id": "fa6a5b9d",
   "metadata": {},
   "outputs": [
    {
     "data": {
      "image/png": "[encoded data removed]",
      "text/plain": [
       "<Figure size 640x480 with 1 Axes>"
      ]
     },
     "metadata": {},
     "output_type": "display_data"
    }
   ],
   "source": [
    "df_purchases['amount'].apply(clean_amount).hist(bins=50, color='lightgreen', edgecolor='black')\n",
    "plt.title('Распределение сумм покупок')\n",
    "plt.xlabel('Сумма покупки')\n",
    "plt.ylabel('Количество')\n",
    "plt.show()\n"
   ]
  },
  {
   "cell_type": "markdown",
   "id": "5c751e92",
   "metadata": {},
   "source": [
    "__*Распределение покупок по категориям*__    \n",
    "\n",
    "Посчитаем количество покупок по категориям, предварительно приведя наименование категорий к нижнему регистру."
   ]
  },
  {
   "cell_type": "code",
   "execution_count": 203,
   "id": "e7528505",
   "metadata": {},
   "outputs": [
    {
     "data": {
      "image/png": "[encoded data removed]",
      "text/plain": [
       "<Figure size 640x480 with 1 Axes>"
      ]
     },
     "metadata": {},
     "output_type": "display_data"
    }
   ],
   "source": [
    "df_purchases['category'].str.lower().value_counts(dropna=False).head(10).plot(kind='bar', color='orange')\n",
    "plt.title('Топ-10 категорий покупок')\n",
    "plt.xlabel('Категория')\n",
    "plt.ylabel('Количество покупок')\n",
    "plt.show()\n"
   ]
  },
  {
   "cell_type": "markdown",
   "id": "36097769",
   "metadata": {},
   "source": [
    "__*Динамика количества покупок по времени*__    \n",
    "\n",
    "Для корректного отображения данных на графике приведем данные в столбце purchase_date к формату даты."
   ]
  },
  {
   "cell_type": "code",
   "execution_count": 205,
   "id": "a6977ed2",
   "metadata": {},
   "outputs": [
    {
     "data": {
      "image/png": "[encoded data removed]",
      "text/plain": [
       "<Figure size 640x480 with 1 Axes>"
      ]
     },
     "metadata": {},
     "output_type": "display_data"
    }
   ],
   "source": [
    "df_purchases['purchase_date_dt'] = pd.to_datetime(df_purchases['purchase_date'], errors='coerce')\n",
    "\n",
    "df_purchases.groupby(pd.Grouper(key='purchase_date_dt', freq='ME')).size().plot()\n",
    "plt.title('Динамика количества покупок по месяцам')\n",
    "plt.xlabel('Дата')\n",
    "plt.ylabel('Количество покупок')\n",
    "plt.show()\n"
   ]
  },
  {
   "cell_type": "markdown",
   "id": "afa1f196",
   "metadata": {},
   "source": [
    "## Взаимосвязь между таблицами"
   ]
  },
  {
   "cell_type": "markdown",
   "id": "616990f4",
   "metadata": {},
   "source": [
    "__*Проверим связь между таблицами df_users и ds_purchases*__    \n",
    "\n",
    " Проверим, что все user_id из таблицы покупок присутствуют в таблице пользователей "
   ]
  },
  {
   "cell_type": "code",
   "execution_count": 27,
   "id": "c6bd00d2",
   "metadata": {},
   "outputs": [
    {
     "name": "stdout",
     "output_type": "stream",
     "text": [
      "Пользователи в покупках, отсутствующие в таблице пользователей: set()\n",
      "Процент user_id из покупок, отсутствующих среди пользователей: 0.00%\n"
     ]
    }
   ],
   "source": [
    "# Множество user_id из обеих таблиц\n",
    "users_set = set(df_users['id'])\n",
    "purchases_users_set = set(df_purchases['user_id'])\n",
    "\n",
    "# Проверка пользователей в покупках, которых нет в users\n",
    "missing_users_in_df = purchases_users_set - users_set\n",
    "print(f\"Пользователи в покупках, отсутствующие в таблице пользователей: {missing_users_in_df}\")\n",
    "\n",
    "# Процент таких случаев\n",
    "percent_missing = len(missing_users_in_df) / len(purchases_users_set) * 100\n",
    "print(f\"Процент user_id из покупок, отсутствующих среди пользователей: {percent_missing:.2f}%\")\n"
   ]
  },
  {
   "cell_type": "markdown",
   "id": "17dd7c37",
   "metadata": {},
   "source": [
    "## Выявление аномалий и выбросов"
   ]
  },
  {
   "cell_type": "markdown",
   "id": "e94a5272",
   "metadata": {},
   "source": [
    "__*Поиск отрицательных значений в суммах покупок*__"
   ]
  },
  {
   "cell_type": "code",
   "execution_count": 28,
   "id": "b2764616",
   "metadata": {},
   "outputs": [
    {
     "name": "stdout",
     "output_type": "stream",
     "text": [
      "Количество отрицательных сумм покупок: 0\n",
      "Empty DataFrame\n",
      "Columns: [id, user_id, purchase_date, amount, category]\n",
      "Index: []\n"
     ]
    }
   ],
   "source": [
    "def clean_amount(x):\n",
    "    if pd.isna(x):\n",
    "        return np.nan\n",
    "    if isinstance(x, str):\n",
    "        x = x.strip().replace(',', '.')\n",
    "    try:\n",
    "        return float(x)\n",
    "    except:\n",
    "        return np.nan\n",
    "\n",
    "neg_amounts = df_purchases[df_purchases['amount'].apply(clean_amount) < 0]\n",
    "print(f\"Количество отрицательных сумм покупок: {len(neg_amounts)}\")\n",
    "print(neg_amounts.head())\n"
   ]
  },
  {
   "cell_type": "markdown",
   "id": "21a8a60e",
   "metadata": {},
   "source": [
    "__*Выявление аномального возраста пользователей*__"
   ]
  },
  {
   "cell_type": "code",
   "execution_count": 29,
   "id": "66ea87f0",
   "metadata": {},
   "outputs": [
    {
     "data": {
      "image/png": "[encoded data removed]",
      "text/plain": [
       "<Figure size 640x480 with 1 Axes>"
      ]
     },
     "metadata": {},
     "output_type": "display_data"
    }
   ],
   "source": [
    "df_users.boxplot(column='age')\n",
    "plt.title('Распределение возраста пользователей')\n",
    "plt.ylabel('Возраст')\n",
    "plt.show()\n"
   ]
  },
  {
   "cell_type": "markdown",
   "id": "d82c7286",
   "metadata": {},
   "source": [
    "На данном графике видно, что есть аномальные значения возраста (больше 100)."
   ]
  },
  {
   "cell_type": "markdown",
   "id": "c990a117",
   "metadata": {},
   "source": [
    "## Очистка и трансформация данных"
   ]
  },
  {
   "cell_type": "markdown",
   "id": "80bb034e",
   "metadata": {},
   "source": [
    "После того, как мы изучили данные, находящиеся в данных датасетах, можно приступать к трансофрмации данных для дальнейшей работы с этими данными."
   ]
  },
  {
   "cell_type": "markdown",
   "id": "b9498865",
   "metadata": {},
   "source": [
    "### df_users"
   ]
  },
  {
   "cell_type": "markdown",
   "id": "ac8f220c",
   "metadata": {},
   "source": [
    "В столбце name удалим пробелы по краям, а также заменим пропущенные значения на \"Unknown\""
   ]
  },
  {
   "cell_type": "code",
   "execution_count": 30,
   "id": "c1e87ffc",
   "metadata": {},
   "outputs": [
    {
     "name": "stdout",
     "output_type": "stream",
     "text": [
      "Количество пропусков в столбце name df_users: 29\n",
      "Количество пропусков в столбцах df_users: 0\n"
     ]
    }
   ],
   "source": [
    "print(f\"Количество пропусков в столбце name df_users: {df_users['name'].isnull().sum()}\")\n",
    "# Удаление пробелов по краям\n",
    "df_users['name'] = df_users['name'].str.strip()\n",
    "# Удаление строк где значение столбца name Nan\n",
    "df_users['name'] = df_users['name'].fillna('Unknown')\n",
    "print(f\"Количество пропусков в столбцах df_users: {df_users['name'].isnull().sum()}\")"
   ]
  },
  {
   "cell_type": "markdown",
   "id": "ca2d7d99",
   "metadata": {},
   "source": [
    "Заменим анамальные значения и значения Nan в столбце age на медиану возраста для минимизации искажения данных для анализа."
   ]
  },
  {
   "cell_type": "code",
   "execution_count": 31,
   "id": "cd74cc31",
   "metadata": {},
   "outputs": [],
   "source": [
    "# Вычисляем медиану для «нормальных» значений (например, от 0 до 100)\n",
    "median_age = df_users.loc[df_users['age'].between(0, 100), 'age'].median()\n",
    "# Помечаем аномальные значения (возраст вне диапазона 0-100)\n",
    "anomalies_mask = ~df_users['age'].between(0, 100)\n",
    "# Заменяем аномальные значения медианой\n",
    "df_users.loc[anomalies_mask, 'age'] = median_age\n",
    "\n",
    "# Заменяем также пропуски на медиану\n",
    "df_users.fillna({'age': median_age}, inplace=True)"
   ]
  },
  {
   "cell_type": "markdown",
   "id": "20482f54",
   "metadata": {},
   "source": [
    "Приведение значений в столбцах city и profession к верхнему регистру для того, чтобы унифицировать данные"
   ]
  },
  {
   "cell_type": "code",
   "execution_count": 32,
   "id": "c2542560",
   "metadata": {},
   "outputs": [],
   "source": [
    "df_users['city'] = df_users['city'].str.upper()\n",
    "df_users['profession'] = df_users['profession'].str.upper()"
   ]
  },
  {
   "cell_type": "markdown",
   "id": "e1c4267d",
   "metadata": {},
   "source": [
    "В столбце profession посмотрим уникальные значения для выявления опечаток."
   ]
  },
  {
   "cell_type": "code",
   "execution_count": 33,
   "id": "59c54c9c",
   "metadata": {},
   "outputs": [
    {
     "data": {
      "text/plain": [
       "array(['ENGINEER', nan, 'DOCTOR', 'ENGNNEER', 'TEACHER', 'SCIENTIST',\n",
       "       'ARTIST', 'XRTIST', 'MANAGER', 'TEACHCR', 'DEVELOPER', 'DEVEDOPER',\n",
       "       'GEACHER', 'SFIENTIST', 'SCIEWTIST', 'MANAGQR', 'DEVELOFER',\n",
       "       'DEVELOPEU', 'SCWENTIST', 'PANAGER', 'MANAGPR', 'DOCTOE',\n",
       "       'ENGIOEER', 'ECIENTIST', 'DODTOR', 'ASTIST', 'VNGINEER', 'ARTIWT'],\n",
       "      dtype=object)"
      ]
     },
     "execution_count": 33,
     "metadata": {},
     "output_type": "execute_result"
    }
   ],
   "source": [
    "unique_professions = df_users['profession'].unique()\n",
    "unique_professions"
   ]
  },
  {
   "cell_type": "markdown",
   "id": "b12f8060",
   "metadata": {},
   "source": [
    "Видим, что есть опечатки в названии професий. Исправим вручную. Заменим пропущенные значения в столбце profession на \"UNKNOWM PROFESSION\""
   ]
  },
  {
   "cell_type": "code",
   "execution_count": 34,
   "id": "cf614190",
   "metadata": {},
   "outputs": [
    {
     "data": {
      "text/plain": [
       "array(['ENGINEER', 'UNKNOWN PROFESSION', 'DOCTOR', 'TEACHER', 'SCIENTIST',\n",
       "       'ARTIST', 'MANAGER', 'DEVELOPER'], dtype=object)"
      ]
     },
     "execution_count": 34,
     "metadata": {},
     "output_type": "execute_result"
    }
   ],
   "source": [
    "df_users['profession'] = df_users['profession'].replace(\n",
    "    ['ENGNNEER', 'ENGIOEER', 'VNGINEER'],\n",
    "    'ENGINEER'\n",
    ")\n",
    "df_users['profession'] = df_users['profession'].replace(\n",
    "    ['DOCTOE', 'DODTOR'],\n",
    "    'DOCTOR'\n",
    ")\n",
    "df_users['profession'] = df_users['profession'].replace(\n",
    "    ['SFIENTIST', 'SCIEWTIST', 'SCWENTIST', 'ECIENTIST'],\n",
    "    'SCIENTIST'\n",
    ")\n",
    "df_users['profession'] = df_users['profession'].replace(\n",
    "    ['XRTIST', 'ARTIWT', 'ASTIST'],\n",
    "    'ARTIST'\n",
    ")\n",
    "df_users['profession'] = df_users['profession'].replace(\n",
    "    ['TEACHCR', 'GEACHER', 'MANAGPR'],\n",
    "    'TEACHER'\n",
    ")\n",
    "df_users['profession'] = df_users['profession'].replace(\n",
    "    ['MANAGQR', 'PANAGER', 'MANAGPR'],\n",
    "    'MANAGER'\n",
    ")\n",
    "df_users['profession'] = df_users['profession'].replace(\n",
    "    ['DEVEDOPER', 'DEVELOFER', 'DEVELOPEU'],\n",
    "    'DEVELOPER'\n",
    ")\n",
    "\n",
    "# Замена пропущенных значений в столбце profession\n",
    "df_users['profession'] = df_users['profession'].fillna('UNKNOWN PROFESSION')\n",
    "\n",
    "\n",
    "\n",
    "#Проверка\n",
    "unique_professions = df_users['profession'].unique()\n",
    "unique_professions"
   ]
  },
  {
   "cell_type": "markdown",
   "id": "10ff4430",
   "metadata": {},
   "source": [
    "Столбец date_join приведем к типу datetime и удалим строки, где даты регистрации пропущенны (Nat)."
   ]
  },
  {
   "cell_type": "code",
   "execution_count": 35,
   "id": "f0974e2d",
   "metadata": {},
   "outputs": [],
   "source": [
    "# Преобразование строк в datetime\n",
    "df_users['join_date'] = pd.to_datetime(df_users['join_date'])\n",
    "# Замена пропущенных дат медианным значением \n",
    "median_date = pd.to_datetime(df_users['join_date'].astype('int64').median())\n",
    "df_users.loc[df_users['join_date'].isna() | (df_users['join_date'] == pd.Timestamp(0)), 'join_date'] = median_date"
   ]
  },
  {
   "cell_type": "markdown",
   "id": "a45d9cb2",
   "metadata": {},
   "source": [
    "### df_purchases"
   ]
  },
  {
   "cell_type": "markdown",
   "id": "379e6a9e",
   "metadata": {},
   "source": [
    "Столбец purchase_date приведем к типу datetime, удалим строки, где даты покупки пропущенны (Nat), а также с помощью пакета dateutil, используемого внутри pandas, динамически определим форматы дат."
   ]
  },
  {
   "cell_type": "code",
   "execution_count": 36,
   "id": "9a3e3cb8",
   "metadata": {},
   "outputs": [],
   "source": [
    "# Создаем функцию, в которой даты приводятся к формату '%Y-%m-%d' с помощью parser\n",
    "def parse_date(x):\n",
    "    try:\n",
    "        return parser.parse(x)\n",
    "    except:\n",
    "        return pd.to_datetime(x)\n",
    "\n",
    "df_purchases['purchase_date'] = df_purchases['purchase_date'].apply(parse_date)\n",
    "\n",
    "# Замена пропущенных дат медианным значением \n",
    "median_date = pd.to_datetime(df_purchases['purchase_date'].astype('int64').median())\n",
    "df_purchases.loc[df_purchases['purchase_date'].isna() | (df_purchases['purchase_date'] == pd.Timestamp(0)), 'purchase_date'] = median_date"
   ]
  },
  {
   "cell_type": "markdown",
   "id": "668aebdc",
   "metadata": {},
   "source": [
    "В столбце покупок amount данные неоднородные, а также присутствуют нулевые значения. Приведем занчения к типу float и заменим нулевые значение на среднее."
   ]
  },
  {
   "cell_type": "code",
   "execution_count": 37,
   "id": "2d4f6618",
   "metadata": {},
   "outputs": [],
   "source": [
    "def clean_amount(x):\n",
    "    if pd.isna(x):\n",
    "        return np.nan\n",
    "    if isinstance(x, str):\n",
    "        x = x.strip().replace(',', '.')\n",
    "    try:\n",
    "        return float(x)\n",
    "    except:\n",
    "        return np.nan\n",
    "    \n",
    "df_purchases = df_purchases.copy()\n",
    "df_purchases['amount'] = df_purchases['amount'].apply(clean_amount)\n",
    "\n",
    "median_amount = df_purchases['amount'].median()\n",
    "df_purchases.loc[:, 'amount'] = df_purchases['amount'].fillna(median_amount)"
   ]
  },
  {
   "cell_type": "markdown",
   "id": "7b1e5775",
   "metadata": {},
   "source": [
    "В столбце category данные неоднородные и имеются нулевые значения.    "
   ]
  },
  {
   "cell_type": "code",
   "execution_count": 38,
   "id": "3bf421b7",
   "metadata": {},
   "outputs": [
    {
     "data": {
      "text/plain": [
       "array(['Books', nan, 'Electronics', 'Sports', 'Clothing', 'Cosmetics',\n",
       "       'Toys', 'sports', 'toys', 'cosmetics', 'Food', 'clothing',\n",
       "       'electronics', 'food', 'books'], dtype=object)"
      ]
     },
     "execution_count": 38,
     "metadata": {},
     "output_type": "execute_result"
    }
   ],
   "source": [
    "#Проверка\n",
    "unique_category = df_purchases['category'].unique()\n",
    "unique_category"
   ]
  },
  {
   "cell_type": "markdown",
   "id": "2933930b",
   "metadata": {},
   "source": [
    "Приведем столбец category к верхнему регистру. Заменим нулевые значения на \"UNKNOWM CATEGORY\""
   ]
  },
  {
   "cell_type": "code",
   "execution_count": 39,
   "id": "71d1dfc1",
   "metadata": {},
   "outputs": [],
   "source": [
    "# Приведение к верхнему регистру\n",
    "df_purchases['category'] = df_purchases['category'].str.upper()\n",
    "\n",
    "#Замена нулевых значений\n",
    "df_purchases['category'] = df_purchases['category'].fillna('UNKNOWN CATEGORY')"
   ]
  },
  {
   "cell_type": "code",
   "execution_count": 40,
   "id": "f15fb51c",
   "metadata": {},
   "outputs": [
    {
     "data": {
      "text/plain": [
       "array(['BOOKS', 'UNKNOWN CATEGORY', 'ELECTRONICS', 'SPORTS', 'CLOTHING',\n",
       "       'COSMETICS', 'TOYS', 'FOOD'], dtype=object)"
      ]
     },
     "execution_count": 40,
     "metadata": {},
     "output_type": "execute_result"
    }
   ],
   "source": [
    "#Проверка\n",
    "unique_category = df_purchases['category'].unique()\n",
    "unique_category"
   ]
  },
  {
   "cell_type": "markdown",
   "id": "ce03670e",
   "metadata": {},
   "source": [
    "## Проверка данных"
   ]
  },
  {
   "cell_type": "markdown",
   "id": "894e12cd",
   "metadata": {},
   "source": [
    "Проверим типы данные в датасетах df_users и df_purchases."
   ]
  },
  {
   "cell_type": "code",
   "execution_count": 41,
   "id": "39fa2649",
   "metadata": {},
   "outputs": [
    {
     "name": "stdout",
     "output_type": "stream",
     "text": [
      "Типы данных столбцов df_users: \n",
      " id                     int64\n",
      "name                  object\n",
      "age                  float64\n",
      "city                  object\n",
      "profession            object\n",
      "join_date     datetime64[ns]\n",
      "dtype: object\n",
      "\n",
      "Типы данных столбцов df_purchases: \n",
      " id                        int64\n",
      "user_id                   int64\n",
      "purchase_date    datetime64[ns]\n",
      "amount                  float64\n",
      "category                 object\n",
      "dtype: object\n"
     ]
    }
   ],
   "source": [
    "print(f'Типы данных столбцов df_users: \\n {df_users.dtypes}')\n",
    "print(f'\\nТипы данных столбцов df_purchases: \\n {df_purchases.dtypes}')"
   ]
  },
  {
   "cell_type": "markdown",
   "id": "fd203d85",
   "metadata": {},
   "source": [
    "Теперь посмотрим остались ли пропуски в датасетах df_users и df_purchases."
   ]
  },
  {
   "cell_type": "code",
   "execution_count": 42,
   "id": "74236c2d",
   "metadata": {},
   "outputs": [
    {
     "name": "stdout",
     "output_type": "stream",
     "text": [
      "Количество пропусков в столбцах df_users: \n",
      " id            0\n",
      "name          0\n",
      "age           0\n",
      "city          0\n",
      "profession    0\n",
      "join_date     0\n",
      "dtype: int64\n",
      "\n",
      "Количество пропусков в столбцах df_purchases: \n",
      " id               0\n",
      "user_id          0\n",
      "purchase_date    0\n",
      "amount           0\n",
      "category         0\n",
      "dtype: int64\n"
     ]
    }
   ],
   "source": [
    "print(f'Количество пропусков в столбцах df_users: \\n {df_users.isnull().sum()}')\n",
    "print(f'\\nКоличество пропусков в столбцах df_purchases: \\n {df_purchases.isnull().sum()}')"
   ]
  },
  {
   "cell_type": "markdown",
   "id": "c9e57a24",
   "metadata": {},
   "source": [
    "Проверим, уникальны ли значения в столбцах profession (df_users) и category (df_users)."
   ]
  },
  {
   "cell_type": "code",
   "execution_count": 43,
   "id": "69b40eb8",
   "metadata": {},
   "outputs": [
    {
     "name": "stdout",
     "output_type": "stream",
     "text": [
      "\n",
      " Уникальные значения в столбце profession в датафрейме df_users: \n",
      "['ENGINEER' 'UNKNOWN PROFESSION' 'DOCTOR' 'TEACHER' 'SCIENTIST' 'ARTIST'\n",
      " 'MANAGER' 'DEVELOPER']\n",
      "\n",
      " Уникальные значения в столбце category в датафрейме df_purchases: \n",
      "['BOOKS' 'UNKNOWN CATEGORY' 'ELECTRONICS' 'SPORTS' 'CLOTHING' 'COSMETICS'\n",
      " 'TOYS' 'FOOD']\n"
     ]
    }
   ],
   "source": [
    "print(f\"\\n Уникальные значения в столбце profession в датафрейме df_users: \\n{df_users['profession'].unique()}\")\n",
    "print(f\"\\n Уникальные значения в столбце category в датафрейме df_purchases: \\n{df_purchases['category'].unique()}\")"
   ]
  },
  {
   "cell_type": "markdown",
   "id": "03fc8d12",
   "metadata": {},
   "source": [
    "После выполненных действий можно утверждать, что данные полностью пригодны к анализу"
   ]
  },
  {
   "cell_type": "markdown",
   "id": "7d640df9",
   "metadata": {},
   "source": [
    "# Создание и заполнение базы данных"
   ]
  },
  {
   "cell_type": "code",
   "execution_count": 44,
   "id": "4e2316dd",
   "metadata": {},
   "outputs": [],
   "source": [
    "load_dotenv(dotenv_path=r'C:\\Users\\User\\Downloads\\Пет-проекты\\marketplace_users_data\\config.env')  # Загрузка переменных из .env\n",
    "config = {\n",
    "    'db_params': {\n",
    "        'dbname': os.getenv('DB_NAME'),\n",
    "        'user': os.getenv('DB_USER'),\n",
    "        'password': os.getenv('DB_PASSWORD'),\n",
    "        'host': os.getenv('DB_HOST'),\n",
    "        'port': os.getenv('DB_PORT'),\n",
    "    }\n",
    "}\n",
    "\n",
    "try:\n",
    "    conn = psycopg2.connect(**config['db_params'])\n",
    "    cursor = conn.cursor()\n",
    "    # Создание таблицы пользователей\n",
    "    cursor.execute('''\n",
    "        CREATE TABLE IF NOT EXISTS users (\n",
    "            id SERIAL PRIMARY KEY,\n",
    "            name TEXT,\n",
    "            age REAL,\n",
    "            city TEXT,\n",
    "            profession TEXT,\n",
    "            join_date TIMESTAMP\n",
    "        )\n",
    "    ''')\n",
    "\n",
    "    # Создание таблицы покупок\n",
    "    cursor.execute('''\n",
    "    CREATE TABLE IF NOT EXISTS purchases (\n",
    "        id SERIAL PRIMARY KEY,\n",
    "        user_id INT,\n",
    "        purchase_date TIMESTAMP,\n",
    "        amount REAL,\n",
    "        category TEXT,\n",
    "        FOREIGN KEY (user_id) REFERENCES users(id)\n",
    "    );\n",
    "    ''')\n",
    "    conn.commit()\n",
    "\n",
    "    # SQL для вставки данных в users\n",
    "    insert_users_query = '''\n",
    "    INSERT INTO users (id, name, age, city, profession, join_date)\n",
    "    VALUES %s\n",
    "    ON CONFLICT (id) DO UPDATE SET\n",
    "        name = EXCLUDED.name,\n",
    "        age = EXCLUDED.age,\n",
    "        city = EXCLUDED.city,\n",
    "        profession = EXCLUDED.profession,\n",
    "        join_date = EXCLUDED.join_date;\n",
    "    '''\n",
    "    records_users = [tuple(x) for x in df_users.astype(object).values.tolist()]\n",
    "    execute_values(cursor, insert_users_query, records_users)\n",
    "\n",
    "    # SQL для вставки данных в purchases\n",
    "    insert_purchases_query = '''\n",
    "    INSERT INTO purchases (id, user_id, purchase_date, amount, category)\n",
    "    VALUES %s\n",
    "    ON CONFLICT (id) DO UPDATE SET\n",
    "        user_id = EXCLUDED.user_id,\n",
    "        purchase_date = EXCLUDED.purchase_date,\n",
    "        amount = EXCLUDED.amount,\n",
    "        category = EXCLUDED.category;\n",
    "    '''\n",
    "    records_purchases = [tuple(x) for x in df_purchases.astype(object).values.tolist()]\n",
    "    execute_values(cursor, insert_purchases_query, records_purchases)\n",
    "\n",
    "\n",
    "    conn.commit()\n",
    "    cursor.close()\n",
    "    conn.close()\n",
    "except Exception as e:\n",
    "    print(f\"Ошибка при записи в БД: {e}\")\n",
    "    raise\n"
   ]
  }
 ],
 "metadata": {
  "kernelspec": {
   "display_name": "Python 3",
   "language": "python",
   "name": "python3"
  },
  "language_info": {
   "codemirror_mode": {
    "name": "ipython",
    "version": 3
   },
   "file_extension": ".py",
   "mimetype": "text/x-python",
   "name": "python",
   "nbconvert_exporter": "python",
   "pygments_lexer": "ipython3",
   "version": "3.11.9"
  }
 },
 "nbformat": 4,
 "nbformat_minor": 5
}
