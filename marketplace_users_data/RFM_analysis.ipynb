{
 "cells": [
  {
   "cell_type": "code",
   "execution_count": 2,
   "id": "1db83947",
   "metadata": {},
   "outputs": [],
   "source": [
    "import pandas as pd\n",
    "import numpy as np\n",
    "import matplotlib.pyplot as plt\n",
    "import seaborn as sns\n",
    "from sqlalchemy import create_engine\n",
    "import os\n",
    "from dotenv import load_dotenv"
   ]
  },
  {
   "cell_type": "markdown",
   "id": "002fac33",
   "metadata": {},
   "source": [
    "# Подключение к БД"
   ]
  },
  {
   "cell_type": "code",
   "execution_count": 16,
   "id": "f33a8878",
   "metadata": {},
   "outputs": [],
   "source": [
    "load_dotenv(dotenv_path=r'C:\\Users\\User\\Downloads\\Пет-проекты\\marketplace_users_data\\config.env')  # Загрузка переменных из .env\n",
    "\n",
    "db_url = f\"postgresql://{os.getenv('DB_USER')}:{os.getenv('DB_PASSWORD')}@{os.getenv('DB_HOST')}/{os.getenv('DB_NAME')}\"\n",
    "engine = create_engine(db_url)"
   ]
  },
  {
   "cell_type": "code",
   "execution_count": 26,
   "id": "12216c1d",
   "metadata": {},
   "outputs": [],
   "source": [
    "query = \"\"\"\n",
    "    SELECT u.id as user_id, u.name, p.id as purchase_id, p.purchase_date, p.category, p.amount \n",
    "    FROM purchases p \n",
    "        JOIN users u ON p.user_id = u.id;\n",
    "\"\"\""
   ]
  },
  {
   "cell_type": "code",
   "execution_count": 27,
   "id": "92dffb5f",
   "metadata": {},
   "outputs": [
    {
     "data": {
      "text/html": [
       "<div>\n",
       "<style scoped>\n",
       "    .dataframe tbody tr th:only-of-type {\n",
       "        vertical-align: middle;\n",
       "    }\n",
       "\n",
       "    .dataframe tbody tr th {\n",
       "        vertical-align: top;\n",
       "    }\n",
       "\n",
       "    .dataframe thead th {\n",
       "        text-align: right;\n",
       "    }\n",
       "</style>\n",
       "<table border=\"1\" class=\"dataframe\">\n",
       "  <thead>\n",
       "    <tr style=\"text-align: right;\">\n",
       "      <th></th>\n",
       "      <th>user_id</th>\n",
       "      <th>name</th>\n",
       "      <th>purchase_id</th>\n",
       "      <th>purchase_date</th>\n",
       "      <th>category</th>\n",
       "      <th>amount</th>\n",
       "    </tr>\n",
       "  </thead>\n",
       "  <tbody>\n",
       "    <tr>\n",
       "      <th>718</th>\n",
       "      <td>61</td>\n",
       "      <td>Lauren Zimyerman</td>\n",
       "      <td>719</td>\n",
       "      <td>2023-02-11</td>\n",
       "      <td>UNKNOWN CATEGORY</td>\n",
       "      <td>829.120</td>\n",
       "    </tr>\n",
       "    <tr>\n",
       "      <th>2337</th>\n",
       "      <td>124</td>\n",
       "      <td>Alexander Spencer</td>\n",
       "      <td>2338</td>\n",
       "      <td>2023-02-12</td>\n",
       "      <td>TOYS</td>\n",
       "      <td>75.370</td>\n",
       "    </tr>\n",
       "    <tr>\n",
       "      <th>2404</th>\n",
       "      <td>441</td>\n",
       "      <td>Shauq Stone</td>\n",
       "      <td>2405</td>\n",
       "      <td>2023-03-12</td>\n",
       "      <td>CLOTHING</td>\n",
       "      <td>924.240</td>\n",
       "    </tr>\n",
       "    <tr>\n",
       "      <th>22</th>\n",
       "      <td>98</td>\n",
       "      <td>Rachel Reyes</td>\n",
       "      <td>23</td>\n",
       "      <td>2023-04-12</td>\n",
       "      <td>BOOKS</td>\n",
       "      <td>765.790</td>\n",
       "    </tr>\n",
       "    <tr>\n",
       "      <th>403</th>\n",
       "      <td>101</td>\n",
       "      <td>Scott Hernandez</td>\n",
       "      <td>404</td>\n",
       "      <td>2023-05-12</td>\n",
       "      <td>UNKNOWN CATEGORY</td>\n",
       "      <td>504.095</td>\n",
       "    </tr>\n",
       "    <tr>\n",
       "      <th>...</th>\n",
       "      <td>...</td>\n",
       "      <td>...</td>\n",
       "      <td>...</td>\n",
       "      <td>...</td>\n",
       "      <td>...</td>\n",
       "      <td>...</td>\n",
       "    </tr>\n",
       "    <tr>\n",
       "      <th>223</th>\n",
       "      <td>179</td>\n",
       "      <td>Alyssa Mitchell</td>\n",
       "      <td>224</td>\n",
       "      <td>2025-10-10</td>\n",
       "      <td>TOYS</td>\n",
       "      <td>414.660</td>\n",
       "    </tr>\n",
       "    <tr>\n",
       "      <th>7</th>\n",
       "      <td>424</td>\n",
       "      <td>Laura Watson</td>\n",
       "      <td>8</td>\n",
       "      <td>2025-10-10</td>\n",
       "      <td>BOOKS</td>\n",
       "      <td>305.320</td>\n",
       "    </tr>\n",
       "    <tr>\n",
       "      <th>190</th>\n",
       "      <td>197</td>\n",
       "      <td>Charles Watson</td>\n",
       "      <td>191</td>\n",
       "      <td>2025-10-10</td>\n",
       "      <td>COSMETICS</td>\n",
       "      <td>87.290</td>\n",
       "    </tr>\n",
       "    <tr>\n",
       "      <th>594</th>\n",
       "      <td>25</td>\n",
       "      <td>Nicholas Mullins</td>\n",
       "      <td>595</td>\n",
       "      <td>2025-10-10</td>\n",
       "      <td>SPORTS</td>\n",
       "      <td>529.890</td>\n",
       "    </tr>\n",
       "    <tr>\n",
       "      <th>2465</th>\n",
       "      <td>209</td>\n",
       "      <td>Lisa Bell</td>\n",
       "      <td>2466</td>\n",
       "      <td>2025-10-10</td>\n",
       "      <td>UNKNOWN CATEGORY</td>\n",
       "      <td>34.230</td>\n",
       "    </tr>\n",
       "  </tbody>\n",
       "</table>\n",
       "<p>3000 rows × 6 columns</p>\n",
       "</div>"
      ],
      "text/plain": [
       "      user_id               name  purchase_id purchase_date          category  \\\n",
       "718        61   Lauren Zimyerman          719    2023-02-11  UNKNOWN CATEGORY   \n",
       "2337      124  Alexander Spencer         2338    2023-02-12              TOYS   \n",
       "2404      441        Shauq Stone         2405    2023-03-12          CLOTHING   \n",
       "22         98       Rachel Reyes           23    2023-04-12             BOOKS   \n",
       "403       101    Scott Hernandez          404    2023-05-12  UNKNOWN CATEGORY   \n",
       "...       ...                ...          ...           ...               ...   \n",
       "223       179    Alyssa Mitchell          224    2025-10-10              TOYS   \n",
       "7         424       Laura Watson            8    2025-10-10             BOOKS   \n",
       "190       197     Charles Watson          191    2025-10-10         COSMETICS   \n",
       "594        25   Nicholas Mullins          595    2025-10-10            SPORTS   \n",
       "2465      209          Lisa Bell         2466    2025-10-10  UNKNOWN CATEGORY   \n",
       "\n",
       "       amount  \n",
       "718   829.120  \n",
       "2337   75.370  \n",
       "2404  924.240  \n",
       "22    765.790  \n",
       "403   504.095  \n",
       "...       ...  \n",
       "223   414.660  \n",
       "7     305.320  \n",
       "190    87.290  \n",
       "594   529.890  \n",
       "2465   34.230  \n",
       "\n",
       "[3000 rows x 6 columns]"
      ]
     },
     "execution_count": 27,
     "metadata": {},
     "output_type": "execute_result"
    }
   ],
   "source": [
    "df = pd.read_sql(query, engine, parse_dates=['purchase_date'])\n",
    "df.sort_values('purchase_date')"
   ]
  },
  {
   "cell_type": "markdown",
   "id": "ad5f8ebe",
   "metadata": {},
   "source": [
    "## Краткий разведочный анализ"
   ]
  },
  {
   "cell_type": "markdown",
   "id": "59b0695a",
   "metadata": {},
   "source": [
    "Размерность датафрейма"
   ]
  },
  {
   "cell_type": "code",
   "execution_count": 8,
   "id": "56027003",
   "metadata": {},
   "outputs": [
    {
     "data": {
      "text/plain": [
       "(3000, 6)"
      ]
     },
     "execution_count": 8,
     "metadata": {},
     "output_type": "execute_result"
    }
   ],
   "source": [
    "df.shape"
   ]
  },
  {
   "cell_type": "markdown",
   "id": "00fe2565",
   "metadata": {},
   "source": [
    "Проверка типов признаков"
   ]
  },
  {
   "cell_type": "code",
   "execution_count": 9,
   "id": "d43963b5",
   "metadata": {},
   "outputs": [
    {
     "data": {
      "text/plain": [
       "id                        int64\n",
       "name                     object\n",
       "purchase_id               int64\n",
       "purchase_date    datetime64[ns]\n",
       "category                 object\n",
       "amount                  float64\n",
       "dtype: object"
      ]
     },
     "execution_count": 9,
     "metadata": {},
     "output_type": "execute_result"
    }
   ],
   "source": [
    "df.dtypes"
   ]
  },
  {
   "cell_type": "markdown",
   "id": "e2dac10d",
   "metadata": {},
   "source": [
    "Проверка значений на null"
   ]
  },
  {
   "cell_type": "code",
   "execution_count": 10,
   "id": "3a04b2c5",
   "metadata": {},
   "outputs": [
    {
     "data": {
      "text/plain": [
       "id               0\n",
       "name             0\n",
       "purchase_id      0\n",
       "purchase_date    0\n",
       "category         0\n",
       "amount           0\n",
       "dtype: int64"
      ]
     },
     "execution_count": 10,
     "metadata": {},
     "output_type": "execute_result"
    }
   ],
   "source": [
    "df.isnull().sum()"
   ]
  },
  {
   "cell_type": "markdown",
   "id": "c4c74693",
   "metadata": {},
   "source": [
    "Просмотр количеств уникальных значений"
   ]
  },
  {
   "cell_type": "code",
   "execution_count": 11,
   "id": "54a383de",
   "metadata": {},
   "outputs": [
    {
     "data": {
      "text/plain": [
       "id                500\n",
       "name              472\n",
       "purchase_id      3000\n",
       "purchase_date     732\n",
       "category            8\n",
       "amount           2807\n",
       "dtype: int64"
      ]
     },
     "execution_count": 11,
     "metadata": {},
     "output_type": "execute_result"
    }
   ],
   "source": [
    "df.nunique()"
   ]
  },
  {
   "cell_type": "markdown",
   "id": "d41d9f77",
   "metadata": {},
   "source": [
    "Проверка на дубликаты"
   ]
  },
  {
   "cell_type": "code",
   "execution_count": 12,
   "id": "b63ce9bf",
   "metadata": {},
   "outputs": [
    {
     "data": {
      "text/plain": [
       "np.int64(0)"
      ]
     },
     "execution_count": 12,
     "metadata": {},
     "output_type": "execute_result"
    }
   ],
   "source": [
    "df.duplicated().sum()"
   ]
  },
  {
   "cell_type": "markdown",
   "id": "811eba97",
   "metadata": {},
   "source": [
    "Проверка на будущие даты"
   ]
  },
  {
   "cell_type": "code",
   "execution_count": null,
   "id": "3e9b339f",
   "metadata": {},
   "outputs": [
    {
     "name": "stdout",
     "output_type": "stream",
     "text": [
      "DataFrame не содержит будущих дат\n"
     ]
    }
   ],
   "source": [
    "future_dates = df[df['purchase_date'] > pd.Timestamp.today()]\n",
    "if future_dates.empty:\n",
    "    print(\"DataFrame не содержит будущих дат\")\n",
    "else:\n",
    "    print(f\"DataFrame содержит будущие даты:\\n{future_dates['purchase_date']}\")"
   ]
  },
  {
   "cell_type": "markdown",
   "id": "adf48cc1",
   "metadata": {},
   "source": [
    "__Вывод__: все данные полность пригодны к анализу."
   ]
  },
  {
   "cell_type": "markdown",
   "id": "6900e6d0",
   "metadata": {},
   "source": [
    "# RFM-анализ"
   ]
  },
  {
   "cell_type": "markdown",
   "id": "337e5fa7",
   "metadata": {},
   "source": [
    "За дату исследования возьмём последнюю дату покупки в данных"
   ]
  },
  {
   "cell_type": "code",
   "execution_count": 25,
   "id": "fefdde72",
   "metadata": {},
   "outputs": [
    {
     "data": {
      "text/plain": [
       "Timestamp('2025-10-10 00:00:00')"
      ]
     },
     "execution_count": 25,
     "metadata": {},
     "output_type": "execute_result"
    }
   ],
   "source": [
    "last_date = df['purchase_date'].max()\n",
    "last_date"
   ]
  },
  {
   "cell_type": "markdown",
   "id": "cbf3c8f8",
   "metadata": {},
   "source": [
    "Создадим датафрейм с RFM-метриками: Recency (давность последней покупки), Frequency (частота покупок) и Monetary (общая сумма покупок)"
   ]
  },
  {
   "cell_type": "code",
   "execution_count": 29,
   "id": "685a0005",
   "metadata": {},
   "outputs": [
    {
     "data": {
      "text/html": [
       "<div>\n",
       "<style scoped>\n",
       "    .dataframe tbody tr th:only-of-type {\n",
       "        vertical-align: middle;\n",
       "    }\n",
       "\n",
       "    .dataframe tbody tr th {\n",
       "        vertical-align: top;\n",
       "    }\n",
       "\n",
       "    .dataframe thead th {\n",
       "        text-align: right;\n",
       "    }\n",
       "</style>\n",
       "<table border=\"1\" class=\"dataframe\">\n",
       "  <thead>\n",
       "    <tr style=\"text-align: right;\">\n",
       "      <th></th>\n",
       "      <th>user_id</th>\n",
       "      <th>recency</th>\n",
       "      <th>frequency</th>\n",
       "      <th>monetary</th>\n",
       "    </tr>\n",
       "  </thead>\n",
       "  <tbody>\n",
       "    <tr>\n",
       "      <th>0</th>\n",
       "      <td>1</td>\n",
       "      <td>311</td>\n",
       "      <td>5</td>\n",
       "      <td>2410.920</td>\n",
       "    </tr>\n",
       "    <tr>\n",
       "      <th>1</th>\n",
       "      <td>2</td>\n",
       "      <td>154</td>\n",
       "      <td>7</td>\n",
       "      <td>3354.285</td>\n",
       "    </tr>\n",
       "    <tr>\n",
       "      <th>2</th>\n",
       "      <td>3</td>\n",
       "      <td>255</td>\n",
       "      <td>6</td>\n",
       "      <td>2645.130</td>\n",
       "    </tr>\n",
       "    <tr>\n",
       "      <th>3</th>\n",
       "      <td>4</td>\n",
       "      <td>39</td>\n",
       "      <td>7</td>\n",
       "      <td>3134.420</td>\n",
       "    </tr>\n",
       "    <tr>\n",
       "      <th>4</th>\n",
       "      <td>5</td>\n",
       "      <td>95</td>\n",
       "      <td>6</td>\n",
       "      <td>3807.335</td>\n",
       "    </tr>\n",
       "  </tbody>\n",
       "</table>\n",
       "</div>"
      ],
      "text/plain": [
       "   user_id  recency  frequency  monetary\n",
       "0        1      311          5  2410.920\n",
       "1        2      154          7  3354.285\n",
       "2        3      255          6  2645.130\n",
       "3        4       39          7  3134.420\n",
       "4        5       95          6  3807.335"
      ]
     },
     "execution_count": 29,
     "metadata": {},
     "output_type": "execute_result"
    }
   ],
   "source": [
    "rfm = df.groupby('user_id').agg(\n",
    "    recency = ('purchase_date', lambda x: (last_date - x.max()).days),\n",
    "    frequency = ('purchase_id', 'count'),\n",
    "    monetary = ('amount', 'sum')\n",
    ").reset_index()\n",
    "\n",
    "rfm.head()"
   ]
  },
  {
   "cell_type": "markdown",
   "id": "0d43ab54",
   "metadata": {},
   "source": [
    "Распределим клиентов по группам    \n",
    "Данные разбиваются на 3 группы так, чтобы в каждой было примерно одинаковое число пользователей (три квантиля)\n",
    "1. Recency.    \n",
    "Присваиваем метки [3][2][1]: самая высокая метка (1) соответствует самой низкой по значению recency, то есть самым «свежим» покупателям, а 3 — самым «старыми»\n",
    "2. Frequency    \n",
    "Присваиваем метки [1][2][3]: здесь метка 3 соответствует наиболее активным по числу покупок пользователям\n",
    "3. Monetary   \n",
    "Присваиваем метки [1][2][3]: здесь метка 3 соответствует пользователям с наибольшими суммами покупо."
   ]
  },
  {
   "cell_type": "code",
   "execution_count": 30,
   "id": "f6562094",
   "metadata": {},
   "outputs": [
    {
     "data": {
      "text/html": [
       "<div>\n",
       "<style scoped>\n",
       "    .dataframe tbody tr th:only-of-type {\n",
       "        vertical-align: middle;\n",
       "    }\n",
       "\n",
       "    .dataframe tbody tr th {\n",
       "        vertical-align: top;\n",
       "    }\n",
       "\n",
       "    .dataframe thead th {\n",
       "        text-align: right;\n",
       "    }\n",
       "</style>\n",
       "<table border=\"1\" class=\"dataframe\">\n",
       "  <thead>\n",
       "    <tr style=\"text-align: right;\">\n",
       "      <th></th>\n",
       "      <th>user_id</th>\n",
       "      <th>recency</th>\n",
       "      <th>frequency</th>\n",
       "      <th>monetary</th>\n",
       "      <th>R</th>\n",
       "      <th>F</th>\n",
       "      <th>M</th>\n",
       "    </tr>\n",
       "  </thead>\n",
       "  <tbody>\n",
       "    <tr>\n",
       "      <th>0</th>\n",
       "      <td>1</td>\n",
       "      <td>311</td>\n",
       "      <td>5</td>\n",
       "      <td>2410.920</td>\n",
       "      <td>1</td>\n",
       "      <td>1</td>\n",
       "      <td>2</td>\n",
       "    </tr>\n",
       "    <tr>\n",
       "      <th>1</th>\n",
       "      <td>2</td>\n",
       "      <td>154</td>\n",
       "      <td>7</td>\n",
       "      <td>3354.285</td>\n",
       "      <td>2</td>\n",
       "      <td>2</td>\n",
       "      <td>2</td>\n",
       "    </tr>\n",
       "    <tr>\n",
       "      <th>2</th>\n",
       "      <td>3</td>\n",
       "      <td>255</td>\n",
       "      <td>6</td>\n",
       "      <td>2645.130</td>\n",
       "      <td>1</td>\n",
       "      <td>2</td>\n",
       "      <td>2</td>\n",
       "    </tr>\n",
       "    <tr>\n",
       "      <th>3</th>\n",
       "      <td>4</td>\n",
       "      <td>39</td>\n",
       "      <td>7</td>\n",
       "      <td>3134.420</td>\n",
       "      <td>3</td>\n",
       "      <td>2</td>\n",
       "      <td>2</td>\n",
       "    </tr>\n",
       "    <tr>\n",
       "      <th>4</th>\n",
       "      <td>5</td>\n",
       "      <td>95</td>\n",
       "      <td>6</td>\n",
       "      <td>3807.335</td>\n",
       "      <td>2</td>\n",
       "      <td>2</td>\n",
       "      <td>3</td>\n",
       "    </tr>\n",
       "  </tbody>\n",
       "</table>\n",
       "</div>"
      ],
      "text/plain": [
       "   user_id  recency  frequency  monetary  R  F  M\n",
       "0        1      311          5  2410.920  1  1  2\n",
       "1        2      154          7  3354.285  2  2  2\n",
       "2        3      255          6  2645.130  1  2  2\n",
       "3        4       39          7  3134.420  3  2  2\n",
       "4        5       95          6  3807.335  2  2  3"
      ]
     },
     "execution_count": 30,
     "metadata": {},
     "output_type": "execute_result"
    }
   ],
   "source": [
    "rfm['R'] = pd.qcut(rfm['recency'], q=3, labels=[3, 2, 1])\n",
    "rfm['F'] = pd.qcut(rfm['frequency'].rank(method='first'), q=3, labels=[1, 2, 3])\n",
    "rfm['M'] = pd.qcut(rfm['monetary'], q=3, labels=[1, 2, 3])\n",
    "rfm.head()"
   ]
  },
  {
   "cell_type": "markdown",
   "id": "2f9ca236",
   "metadata": {},
   "source": [
    "Объединим группы в один столбец"
   ]
  },
  {
   "cell_type": "code",
   "execution_count": 31,
   "id": "fc01ffad",
   "metadata": {},
   "outputs": [
    {
     "data": {
      "text/html": [
       "<div>\n",
       "<style scoped>\n",
       "    .dataframe tbody tr th:only-of-type {\n",
       "        vertical-align: middle;\n",
       "    }\n",
       "\n",
       "    .dataframe tbody tr th {\n",
       "        vertical-align: top;\n",
       "    }\n",
       "\n",
       "    .dataframe thead th {\n",
       "        text-align: right;\n",
       "    }\n",
       "</style>\n",
       "<table border=\"1\" class=\"dataframe\">\n",
       "  <thead>\n",
       "    <tr style=\"text-align: right;\">\n",
       "      <th></th>\n",
       "      <th>user_id</th>\n",
       "      <th>recency</th>\n",
       "      <th>frequency</th>\n",
       "      <th>monetary</th>\n",
       "      <th>R</th>\n",
       "      <th>F</th>\n",
       "      <th>M</th>\n",
       "      <th>RFM</th>\n",
       "    </tr>\n",
       "  </thead>\n",
       "  <tbody>\n",
       "    <tr>\n",
       "      <th>0</th>\n",
       "      <td>1</td>\n",
       "      <td>311</td>\n",
       "      <td>5</td>\n",
       "      <td>2410.920</td>\n",
       "      <td>1</td>\n",
       "      <td>1</td>\n",
       "      <td>2</td>\n",
       "      <td>112</td>\n",
       "    </tr>\n",
       "    <tr>\n",
       "      <th>1</th>\n",
       "      <td>2</td>\n",
       "      <td>154</td>\n",
       "      <td>7</td>\n",
       "      <td>3354.285</td>\n",
       "      <td>2</td>\n",
       "      <td>2</td>\n",
       "      <td>2</td>\n",
       "      <td>222</td>\n",
       "    </tr>\n",
       "    <tr>\n",
       "      <th>2</th>\n",
       "      <td>3</td>\n",
       "      <td>255</td>\n",
       "      <td>6</td>\n",
       "      <td>2645.130</td>\n",
       "      <td>1</td>\n",
       "      <td>2</td>\n",
       "      <td>2</td>\n",
       "      <td>122</td>\n",
       "    </tr>\n",
       "    <tr>\n",
       "      <th>3</th>\n",
       "      <td>4</td>\n",
       "      <td>39</td>\n",
       "      <td>7</td>\n",
       "      <td>3134.420</td>\n",
       "      <td>3</td>\n",
       "      <td>2</td>\n",
       "      <td>2</td>\n",
       "      <td>322</td>\n",
       "    </tr>\n",
       "    <tr>\n",
       "      <th>4</th>\n",
       "      <td>5</td>\n",
       "      <td>95</td>\n",
       "      <td>6</td>\n",
       "      <td>3807.335</td>\n",
       "      <td>2</td>\n",
       "      <td>2</td>\n",
       "      <td>3</td>\n",
       "      <td>223</td>\n",
       "    </tr>\n",
       "  </tbody>\n",
       "</table>\n",
       "</div>"
      ],
      "text/plain": [
       "   user_id  recency  frequency  monetary  R  F  M  RFM\n",
       "0        1      311          5  2410.920  1  1  2  112\n",
       "1        2      154          7  3354.285  2  2  2  222\n",
       "2        3      255          6  2645.130  1  2  2  122\n",
       "3        4       39          7  3134.420  3  2  2  322\n",
       "4        5       95          6  3807.335  2  2  3  223"
      ]
     },
     "execution_count": 31,
     "metadata": {},
     "output_type": "execute_result"
    }
   ],
   "source": [
    "rfm['RFM'] = rfm['R'].astype(str) + rfm['F'].astype(str) + rfm['M'].astype(str)\n",
    "rfm.head()"
   ]
  },
  {
   "cell_type": "code",
   "execution_count": 32,
   "id": "b80fe328",
   "metadata": {},
   "outputs": [
    {
     "data": {
      "text/plain": [
       "RFM\n",
       "333    65\n",
       "111    63\n",
       "211    40\n",
       "233    39\n",
       "222    33\n",
       "322    32\n",
       "122    30\n",
       "133    29\n",
       "311    26\n",
       "223    19\n",
       "112    17\n",
       "121    17\n",
       "332    15\n",
       "212    12\n",
       "232    12\n",
       "221    11\n",
       "323    10\n",
       "312     9\n",
       "321     9\n",
       "132     6\n",
       "123     5\n",
       "331     1\n",
       "Name: count, dtype: int64"
      ]
     },
     "execution_count": 32,
     "metadata": {},
     "output_type": "execute_result"
    }
   ],
   "source": [
    "rfm['RFM'].value_counts()"
   ]
  },
  {
   "cell_type": "code",
   "execution_count": 33,
   "id": "756a151e",
   "metadata": {},
   "outputs": [
    {
     "data": {
      "image/png": "[encoded data removed]",
      "text/plain": [
       "<Figure size 1000x600 with 1 Axes>"
      ]
     },
     "metadata": {},
     "output_type": "display_data"
    }
   ],
   "source": [
    "rfm_counts = rfm['RFM'].value_counts().reset_index()\n",
    "rfm_counts.columns = ['RFM', 'count']\n",
    "\n",
    "plt.figure(figsize=(10, 6))\n",
    "sns.barplot(data=rfm_counts, x='RFM', y='count', hue='RFM', palette='viridis')\n",
    "\n",
    "plt.title('Распределение клиентов по RFM-сегментам')\n",
    "plt.xlabel('RFM-код')\n",
    "plt.ylabel('Количество клиентов')\n",
    "plt.xticks(rotation=90)\n",
    "\n",
    "plt.tight_layout()\n",
    "plt.show()"
   ]
  },
  {
   "cell_type": "markdown",
   "id": "1260b73b",
   "metadata": {},
   "source": [
    "## Выводы и рекомендации"
   ]
  },
  {
   "cell_type": "markdown",
   "id": "14e9e92b",
   "metadata": {},
   "source": [
    "- **Группа 333**: недавние, частые, дорогие\n",
    "\t- *Рекомендации*: удержание, персонализация, премиальные предложения\n",
    "- **Группа 111**: давно не покупали, редко, дешёвые\n",
    "\t- *Рекомендации*: реанимационные кампании, опросы\n",
    "- **Группы 233/332/211**: есть признаки активности и ценности\n",
    "\t- *Рекомендации*: стимулировать повтор, бонусы за лояльность\n",
    "- **Группы 133/313/231**: редкие, но дорогие\n",
    "\t- *Рекомендации*: эксклюзивные предложения, персональные обращения"
   ]
  }
 ],
 "metadata": {
  "kernelspec": {
   "display_name": "Python 3",
   "language": "python",
   "name": "python3"
  },
  "language_info": {
   "codemirror_mode": {
    "name": "ipython",
    "version": 3
   },
   "file_extension": ".py",
   "mimetype": "text/x-python",
   "name": "python",
   "nbconvert_exporter": "python",
   "pygments_lexer": "ipython3",
   "version": "3.11.9"
  }
 },
 "nbformat": 4,
 "nbformat_minor": 5
}
